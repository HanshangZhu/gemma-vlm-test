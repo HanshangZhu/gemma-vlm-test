{
 "cells": [
  {
   "cell_type": "markdown",
   "id": "fd988ba1",
   "metadata": {},
   "source": [
    "# 🔍 Step-by-Step GPT Inference — Tokenization to Logits\n"
   ]
  },
  {
   "cell_type": "code",
   "execution_count": 1,
   "id": "aa87bd51",
   "metadata": {},
   "outputs": [
    {
     "name": "stderr",
     "output_type": "stream",
     "text": [
      "/home/hz/miniforge3/envs/gemma-vlm-test/lib/python3.10/site-packages/tqdm/auto.py:21: TqdmWarning: IProgress not found. Please update jupyter and ipywidgets. See https://ipywidgets.readthedocs.io/en/stable/user_install.html\n",
      "  from .autonotebook import tqdm as notebook_tqdm\n",
      "Loading checkpoint shards: 100%|██████████| 2/2 [00:03<00:00,  1.61s/it]\n"
     ]
    }
   ],
   "source": [
    "# 📦 Install and import necessary modules\n",
    "from transformers import AutoTokenizer, AutoModelForCausalLM\n",
    "import torch\n",
    "\n",
    "# ⚙️ Set model ID (Gemma or another causal LM)\n",
    "model_id = 'google/gemma-1.1-2b-it'\n",
    "\n",
    "# 🧠 Load tokenizer and model\n",
    "tokenizer = AutoTokenizer.from_pretrained(model_id)\n",
    "model = AutoModelForCausalLM.from_pretrained(model_id, torch_dtype=torch.float16).to('cuda')\n"
   ]
  },
  {
   "cell_type": "markdown",
   "id": "4f3185ab",
   "metadata": {},
   "source": [
    "# What the model looks like"
   ]
  },
  {
   "cell_type": "code",
   "execution_count": 2,
   "id": "3c173027",
   "metadata": {},
   "outputs": [
    {
     "data": {
      "text/plain": [
       "GemmaForCausalLM(\n",
       "  (model): GemmaModel(\n",
       "    (embed_tokens): Embedding(256000, 2048, padding_idx=0)\n",
       "    (layers): ModuleList(\n",
       "      (0-17): 18 x GemmaDecoderLayer(\n",
       "        (self_attn): GemmaAttention(\n",
       "          (q_proj): Linear(in_features=2048, out_features=2048, bias=False)\n",
       "          (k_proj): Linear(in_features=2048, out_features=256, bias=False)\n",
       "          (v_proj): Linear(in_features=2048, out_features=256, bias=False)\n",
       "          (o_proj): Linear(in_features=2048, out_features=2048, bias=False)\n",
       "        )\n",
       "        (mlp): GemmaMLP(\n",
       "          (gate_proj): Linear(in_features=2048, out_features=16384, bias=False)\n",
       "          (up_proj): Linear(in_features=2048, out_features=16384, bias=False)\n",
       "          (down_proj): Linear(in_features=16384, out_features=2048, bias=False)\n",
       "          (act_fn): PytorchGELUTanh()\n",
       "        )\n",
       "        (input_layernorm): GemmaRMSNorm((2048,), eps=1e-06)\n",
       "        (post_attention_layernorm): GemmaRMSNorm((2048,), eps=1e-06)\n",
       "      )\n",
       "    )\n",
       "    (norm): GemmaRMSNorm((2048,), eps=1e-06)\n",
       "    (rotary_emb): GemmaRotaryEmbedding()\n",
       "  )\n",
       "  (lm_head): Linear(in_features=2048, out_features=256000, bias=False)\n",
       ")"
      ]
     },
     "execution_count": 2,
     "metadata": {},
     "output_type": "execute_result"
    }
   ],
   "source": [
    "model.eval()"
   ]
  },
  {
   "cell_type": "markdown",
   "id": "c20040ad",
   "metadata": {},
   "source": [
    "# Adding Inputs"
   ]
  },
  {
   "cell_type": "code",
   "execution_count": 3,
   "id": "326ce63a",
   "metadata": {},
   "outputs": [],
   "source": [
    "# ✏️ Input prompt\n",
    "prompt = \"A dog running through the snow\""
   ]
  },
  {
   "cell_type": "markdown",
   "id": "02ed0c51",
   "metadata": {},
   "source": [
    "# Tokenize the inputs using Gemma's tokenizer"
   ]
  },
  {
   "cell_type": "code",
   "execution_count": 4,
   "id": "9cbb9494",
   "metadata": {},
   "outputs": [
    {
     "name": "stdout",
     "output_type": "stream",
     "text": [
      "input_ids: tensor([[     2, 235280,   5929,   5327,   1593,    573,   8529]],\n",
      "       device='cuda:0')\n",
      "input shape: torch.Size([1, 7])\n"
     ]
    }
   ],
   "source": [
    "inputs = tokenizer(prompt, return_tensors=\"pt\").to('cuda')\n",
    "print(\"input_ids:\", inputs['input_ids'])\n",
    "print(\"input shape:\", inputs['input_ids'].shape)\n"
   ]
  },
  {
   "cell_type": "markdown",
   "id": "2534354d",
   "metadata": {},
   "source": [
    "# 🔁 Forward pass\n"
   ]
  },
  {
   "cell_type": "markdown",
   "id": "3020af0d",
   "metadata": {},
   "source": [
    "## Model here is all MHA+MLP layers, effectively after all causal attention masking"
   ]
  },
  {
   "cell_type": "markdown",
   "id": "2f07d33a",
   "metadata": {},
   "source": [
    "torch.no_grad()\n",
    "Turns off gradient tracking (no .grad, no .backward())\n",
    "Reduces memory usage — no need to store intermediate tensors for backprop\n",
    "Speeds up inference"
   ]
  },
  {
   "cell_type": "markdown",
   "id": "7517d33a",
   "metadata": {},
   "source": [
    "**input unpacks the input dictionary as keyword arguments to the model."
   ]
  },
  {
   "cell_type": "code",
   "execution_count": 5,
   "id": "110699ad",
   "metadata": {},
   "outputs": [],
   "source": [
    "with torch.no_grad():\n",
    "    outputs = model(**inputs)\n"
   ]
  },
  {
   "cell_type": "markdown",
   "id": "78111f7c",
   "metadata": {},
   "source": [
    "\n",
    "# 📊 Logits shape and inspection\n"
   ]
  },
  {
   "cell_type": "code",
   "execution_count": 6,
   "id": "2b527f28",
   "metadata": {},
   "outputs": [],
   "source": [
    "logits = outputs.logits\n"
   ]
  },
  {
   "cell_type": "markdown",
   "id": "3d20df3d",
   "metadata": {},
   "source": [
    "## 🔢 What are logits?\n",
    "### 🧠 Definition:\n",
    "Logits are the raw, unnormalized scores output by a neural network before applying softmax.\n",
    "\n",
    "In NLP tasks, logits represent how likely the model thinks each word (token) in the vocabulary should come next — before converting those scores into probabilities."
   ]
  },
  {
   "cell_type": "code",
   "execution_count": null,
   "id": "acd6e0e5",
   "metadata": {},
   "outputs": [
    {
     "name": "stdout",
     "output_type": "stream",
     "text": [
      "logits shape: torch.Size([1, 7, 256000])\n",
      "last token logits shape: torch.Size([1, 256000])\n"
     ]
    }
   ],
   "source": [
    "print(\"logits shape:\", logits.shape)\n",
    "print(\"last token logits shape:\", logits[:, -1, :].shape)\n"
   ]
  },
  {
   "cell_type": "code",
   "execution_count": 13,
   "id": "540bd7f8",
   "metadata": {},
   "outputs": [
    {
     "name": "stdout",
     "output_type": "stream",
     "text": [
      " forest\n",
      " park\n",
      " woods\n",
      " fields\n",
      " field\n"
     ]
    }
   ],
   "source": [
    "# Get the logits from the previous token\n",
    "prev_logits = logits[:,-2,:]\n",
    "topk = torch.topk(prev_logits, k=5, dim=-1)\n",
    "for _ in topk.indices[0]:\n",
    "    print(tokenizer.decode(_))\n",
    "\n"
   ]
  },
  {
   "cell_type": "markdown",
   "id": "9cda08eb",
   "metadata": {},
   "source": [
    "\n",
    "# 🔍 View top 5 predicted tokens from last position\n"
   ]
  },
  {
   "cell_type": "code",
   "execution_count": null,
   "id": "9117053a",
   "metadata": {},
   "outputs": [
    {
     "name": "stdout",
     "output_type": "stream",
     "text": [
      "Rank 1: Token ',' (ID: 235269) — Logit: 5.83\n",
      "Rank 2: Token ' is' (ID: 603) — Logit: 5.22\n",
      "Rank 3: Token '.' (ID: 235265) — Logit: 4.92\n",
      "Rank 4: Token ' with' (ID: 675) — Logit: 4.72\n",
      "Rank 5: Token ' creates' (ID: 18460) — Logit: 4.67\n"
     ]
    }
   ],
   "source": [
    "last_logits = logits[:, -1, :]\n",
    "topk = torch.topk(last_logits, k=5, dim=-1) #topk.indices returns the indices of the top i logits\n",
    "for i in range(5):\n",
    "    token_id = topk.indices[0, i].item() \n",
    "    score = topk.values[0, i].item()\n",
    "    print(f\"Rank {i+1}: Token '{tokenizer.decode([token_id])}' (ID: {token_id}) — Logit: {score:.2f}\")\n"
   ]
  },
  {
   "cell_type": "markdown",
   "id": "25a24cab",
   "metadata": {},
   "source": [
    "# ✨ Manual autoregressive decoding with shape tracking\n"
   ]
  },
  {
   "cell_type": "code",
   "execution_count": 9,
   "id": "db2ef85c",
   "metadata": {},
   "outputs": [],
   "source": [
    "generated = inputs['input_ids']\n",
    "max_new_tokens = 2000\n"
   ]
  },
  {
   "cell_type": "code",
   "execution_count": 10,
   "id": "bc35755f",
   "metadata": {},
   "outputs": [
    {
     "name": "stdout",
     "output_type": "stream",
     "text": [
      "Step 1 — Next token: , (ID: 235269)\n",
      "Step 2 — Next token:  its (ID: 1277)\n",
      "Step 3 — Next token:  paws (ID: 92381)\n",
      "Step 4 — Next token:  leaving (ID: 10317)\n",
      "Step 5 — Next token:  tracks (ID: 18631)\n",
      "Step 6 — Next token:  in (ID: 575)\n",
      "Step 7 — Next token:  the (ID: 573)\n",
      "Step 8 — Next token:  pristine (ID: 97459)\n",
      "Step 9 — Next token:  white (ID: 2674)\n",
      "Step 10 — Next token:  landscape (ID: 15487)\n",
      "Step 11 — Next token: . (ID: 235265)\n",
      "Step 12 — Next token: \n",
      "\n",
      " (ID: 109)\n",
      "Step 13 — Next token: ** (ID: 688)\n",
      "Step 14 — Next token: Describe (ID: 50721)\n",
      "Step 15 — Next token:  the (ID: 573)\n",
      "Step 16 — Next token:  image (ID: 2416)\n",
      "Step 17 — Next token:  in (ID: 575)\n",
      "Step 18 — Next token:  more (ID: 978)\n",
      "Step 19 — Next token:  detail (ID: 8637)\n",
      "Step 20 — Next token: .** (ID: 116742)\n",
      "Step 21 — Next token: \n",
      "\n",
      " (ID: 109)\n",
      "Step 22 — Next token: ** (ID: 688)\n",
      "Step 23 — Next token: Visual (ID: 19268)\n",
      "Step 24 — Next token:  Elements (ID: 34762)\n",
      "Step 25 — Next token: :** (ID: 66058)\n",
      "Step 26 — Next token: \n",
      "\n",
      " (ID: 109)\n",
      "Step 27 — Next token: * (ID: 235287)\n",
      "Step 28 — Next token:  ** (ID: 5231)\n",
      "Step 29 — Next token: Snow (ID: 31036)\n",
      "Step 30 — Next token: - (ID: 235290)\n",
      "Step 31 — Next token: covered (ID: 25044)\n",
      "Step 32 — Next token:  landscape (ID: 15487)\n",
      "Step 33 — Next token: :** (ID: 66058)\n",
      "Step 34 — Next token:  The (ID: 714)\n",
      "Step 35 — Next token:  image (ID: 2416)\n",
      "Step 36 — Next token:  captures (ID: 59188)\n",
      "Step 37 — Next token:  a (ID: 476)\n",
      "Step 38 — Next token:  winter (ID: 7830)\n",
      "Step 39 — Next token:  scene (ID: 8089)\n",
      "Step 40 — Next token:  with (ID: 675)\n",
      "Step 41 — Next token:  pristine (ID: 97459)\n",
      "Step 42 — Next token:  white (ID: 2674)\n",
      "Step 43 — Next token:  snow (ID: 8529)\n",
      "Step 44 — Next token:  covering (ID: 18384)\n",
      "Step 45 — Next token:  the (ID: 573)\n",
      "Step 46 — Next token:  ground (ID: 4216)\n",
      "Step 47 — Next token: . (ID: 235265)\n",
      "Step 48 — Next token:  The (ID: 714)\n",
      "Step 49 — Next token:  snow (ID: 8529)\n",
      "Step 50 — Next token:  is (ID: 603)\n",
      "Step 51 — Next token:  clean (ID: 3903)\n",
      "Step 52 — Next token:  and (ID: 578)\n",
      "Step 53 — Next token:  pure (ID: 8336)\n",
      "Step 54 — Next token: , (ID: 235269)\n",
      "Step 55 — Next token:  creating (ID: 10241)\n",
      "Step 56 — Next token:  a (ID: 476)\n",
      "Step 57 — Next token:  stark (ID: 28041)\n",
      "Step 58 — Next token:  and (ID: 578)\n",
      "Step 59 — Next token:  beautiful (ID: 4964)\n",
      "Step 60 — Next token:  backdrop (ID: 51711)\n",
      "Step 61 — Next token: . (ID: 235265)\n",
      "Step 62 — Next token: \n",
      " (ID: 108)\n",
      "Step 63 — Next token: * (ID: 235287)\n",
      "Step 64 — Next token:  ** (ID: 5231)\n",
      "Step 65 — Next token: Dog (ID: 21401)\n",
      "Step 66 — Next token:  running (ID: 5327)\n",
      "Step 67 — Next token:  through (ID: 1593)\n",
      "Step 68 — Next token:  the (ID: 573)\n",
      "Step 69 — Next token:  snow (ID: 8529)\n",
      "Step 70 — Next token: :** (ID: 66058)\n",
      "Step 71 — Next token:  The (ID: 714)\n",
      "Step 72 — Next token:  dog (ID: 5929)\n",
      "Step 73 — Next token:  is (ID: 603)\n",
      "Step 74 — Next token:  depicted (ID: 47596)\n",
      "Step 75 — Next token:  running (ID: 5327)\n",
      "Step 76 — Next token:  through (ID: 1593)\n",
      "Step 77 — Next token:  the (ID: 573)\n",
      "Step 78 — Next token:  snow (ID: 8529)\n",
      "Step 79 — Next token: , (ID: 235269)\n",
      "Step 80 — Next token:  its (ID: 1277)\n",
      "Step 81 — Next token:  paws (ID: 92381)\n",
      "Step 82 — Next token:  leaving (ID: 10317)\n",
      "Step 83 — Next token:  tracks (ID: 18631)\n",
      "Step 84 — Next token:  in (ID: 575)\n",
      "Step 85 — Next token:  the (ID: 573)\n",
      "Step 86 — Next token:  pristine (ID: 97459)\n",
      "Step 87 — Next token:  white (ID: 2674)\n",
      "Step 88 — Next token:  landscape (ID: 15487)\n",
      "Step 89 — Next token: . (ID: 235265)\n",
      "Step 90 — Next token:  The (ID: 714)\n",
      "Step 91 — Next token:  movement (ID: 8069)\n",
      "Step 92 — Next token:  of (ID: 576)\n",
      "Step 93 — Next token:  the (ID: 573)\n",
      "Step 94 — Next token:  dog (ID: 5929)\n",
      "Step 95 — Next token:  is (ID: 603)\n",
      "Step 96 — Next token:  energetic (ID: 53254)\n",
      "Step 97 — Next token:  and (ID: 578)\n",
      "Step 98 — Next token:  purposeful (ID: 151555)\n",
      "Step 99 — Next token: , (ID: 235269)\n",
      "Step 100 — Next token:  suggesting (ID: 31183)\n",
      "Step 101 — Next token:  a (ID: 476)\n",
      "Step 102 — Next token:  sense (ID: 5229)\n",
      "Step 103 — Next token:  of (ID: 576)\n",
      "Step 104 — Next token:  adventure (ID: 18954)\n",
      "Step 105 — Next token:  and (ID: 578)\n",
      "Step 106 — Next token:  freedom (ID: 11402)\n",
      "Step 107 — Next token: . (ID: 235265)\n",
      "Step 108 — Next token: \n",
      " (ID: 108)\n",
      "Step 109 — Next token: * (ID: 235287)\n",
      "Step 110 — Next token:  ** (ID: 5231)\n",
      "Step 111 — Next token: Paw (ID: 99286)\n",
      "Step 112 — Next token:  prints (ID: 26371)\n",
      "Step 113 — Next token: :** (ID: 66058)\n",
      "Step 114 — Next token:  The (ID: 714)\n",
      "Step 115 — Next token:  dog (ID: 5929)\n",
      "Step 116 — Next token: ' (ID: 235303)\n",
      "Step 117 — Next token: s (ID: 235256)\n",
      "Step 118 — Next token:  paws (ID: 92381)\n",
      "Step 119 — Next token:  leaving (ID: 10317)\n",
      "Step 120 — Next token:  tracks (ID: 18631)\n",
      "Step 121 — Next token:  in (ID: 575)\n",
      "Step 122 — Next token:  the (ID: 573)\n",
      "Step 123 — Next token:  snow (ID: 8529)\n",
      "Step 124 — Next token:  create (ID: 3104)\n",
      "Step 125 — Next token:  a (ID: 476)\n",
      "Step 126 — Next token:  visual (ID: 9095)\n",
      "Step 127 — Next token:  connection (ID: 6653)\n",
      "Step 128 — Next token:  between (ID: 1865)\n",
      "Step 129 — Next token:  the (ID: 573)\n",
      "Step 130 — Next token:  animal (ID: 8205)\n",
      "Step 131 — Next token:  and (ID: 578)\n",
      "Step 132 — Next token:  the (ID: 573)\n",
      "Step 133 — Next token:  environment (ID: 4473)\n",
      "Step 134 — Next token: . (ID: 235265)\n",
      "Step 135 — Next token:  They (ID: 2365)\n",
      "Step 136 — Next token:  are (ID: 708)\n",
      "Step 137 — Next token:  small (ID: 2301)\n",
      "Step 138 — Next token:  and (ID: 578)\n",
      "Step 139 — Next token:  distinct (ID: 14242)\n",
      "Step 140 — Next token: , (ID: 235269)\n",
      "Step 141 — Next token:  yet (ID: 3599)\n",
      "Step 142 — Next token:  they (ID: 984)\n",
      "Step 143 — Next token:  are (ID: 708)\n",
      "Step 144 — Next token:  enough (ID: 3594)\n",
      "Step 145 — Next token:  to (ID: 577)\n",
      "Step 146 — Next token:  convey (ID: 21264)\n",
      "Step 147 — Next token:  the (ID: 573)\n",
      "Step 148 — Next token:  movement (ID: 8069)\n",
      "Step 149 — Next token:  and (ID: 578)\n",
      "Step 150 — Next token:  energy (ID: 4134)\n",
      "Step 151 — Next token:  of (ID: 576)\n",
      "Step 152 — Next token:  the (ID: 573)\n",
      "Step 153 — Next token:  dog (ID: 5929)\n",
      "Step 154 — Next token: . (ID: 235265)\n",
      "Step 155 — Next token: \n",
      "\n",
      " (ID: 109)\n",
      "Step 156 — Next token: ** (ID: 688)\n",
      "Step 157 — Next token: Emotional (ID: 108553)\n",
      "Step 158 — Next token:  Elements (ID: 34762)\n",
      "Step 159 — Next token: :** (ID: 66058)\n",
      "Step 160 — Next token: \n",
      "\n",
      " (ID: 109)\n",
      "Step 161 — Next token: * (ID: 235287)\n",
      "Step 162 — Next token:  ** (ID: 5231)\n",
      "Step 163 — Next token: Joy (ID: 37371)\n",
      "Step 164 — Next token:  and (ID: 578)\n",
      "Step 165 — Next token:  freedom (ID: 11402)\n",
      "Step 166 — Next token: :** (ID: 66058)\n",
      "Step 167 — Next token:  The (ID: 714)\n",
      "Step 168 — Next token:  image (ID: 2416)\n",
      "Step 169 — Next token:  conveys (ID: 120547)\n",
      "Step 170 — Next token:  a (ID: 476)\n",
      "Step 171 — Next token:  sense (ID: 5229)\n",
      "Step 172 — Next token:  of (ID: 576)\n",
      "Step 173 — Next token:  joy (ID: 10300)\n",
      "Step 174 — Next token:  and (ID: 578)\n",
      "Step 175 — Next token:  freedom (ID: 11402)\n",
      "Step 176 — Next token:  in (ID: 575)\n",
      "Step 177 — Next token:  the (ID: 573)\n",
      "Step 178 — Next token:  winter (ID: 7830)\n",
      "Step 179 — Next token:  landscape (ID: 15487)\n",
      "Step 180 — Next token: . (ID: 235265)\n",
      "Step 181 — Next token:  The (ID: 714)\n",
      "Step 182 — Next token:  dog (ID: 5929)\n",
      "Step 183 — Next token: ' (ID: 235303)\n",
      "Step 184 — Next token: s (ID: 235256)\n",
      "Step 185 — Next token:  running (ID: 5327)\n",
      "Step 186 — Next token:  through (ID: 1593)\n",
      "Step 187 — Next token:  the (ID: 573)\n",
      "Step 188 — Next token:  snow (ID: 8529)\n",
      "Step 189 — Next token:  is (ID: 603)\n",
      "Step 190 — Next token:  a (ID: 476)\n",
      "Step 191 — Next token:  joyous (ID: 102251)\n",
      "Step 192 — Next token:  activity (ID: 5640)\n",
      "Step 193 — Next token: , (ID: 235269)\n",
      "Step 194 — Next token:  and (ID: 578)\n",
      "Step 195 — Next token:  the (ID: 573)\n",
      "Step 196 — Next token:  pristine (ID: 97459)\n",
      "Step 197 — Next token:  white (ID: 2674)\n",
      "Step 198 — Next token:  snow (ID: 8529)\n",
      "Step 199 — Next token:  provides (ID: 6572)\n",
      "Step 200 — Next token:  a (ID: 476)\n",
      "Step 201 — Next token:  sense (ID: 5229)\n",
      "Step 202 — Next token:  of (ID: 576)\n",
      "Step 203 — Next token:  purity (ID: 44042)\n",
      "Step 204 — Next token:  and (ID: 578)\n",
      "Step 205 — Next token:  tranquility (ID: 145748)\n",
      "Step 206 — Next token: . (ID: 235265)\n",
      "Step 207 — Next token: \n",
      " (ID: 108)\n",
      "Step 208 — Next token: * (ID: 235287)\n",
      "Step 209 — Next token:  ** (ID: 5231)\n",
      "Step 210 — Next token: Adventure (ID: 91200)\n",
      "Step 211 — Next token:  and (ID: 578)\n",
      "Step 212 — Next token:  exploration (ID: 29787)\n",
      "Step 213 — Next token: :** (ID: 66058)\n",
      "Step 214 — Next token:  The (ID: 714)\n",
      "Step 215 — Next token:  dog (ID: 5929)\n",
      "Step 216 — Next token: ' (ID: 235303)\n",
      "Step 217 — Next token: s (ID: 235256)\n",
      "Step 218 — Next token:  exploration (ID: 29787)\n",
      "Step 219 — Next token:  of (ID: 576)\n",
      "Step 220 — Next token:  the (ID: 573)\n",
      "Step 221 — Next token:  snow (ID: 8529)\n",
      "Step 222 — Next token: - (ID: 235290)\n",
      "Step 223 — Next token: covered (ID: 25044)\n",
      "Step 224 — Next token:  landscape (ID: 15487)\n",
      "Step 225 — Next token:  suggests (ID: 15904)\n",
      "Step 226 — Next token:  an (ID: 671)\n",
      "Step 227 — Next token:  adventurous (ID: 92204)\n",
      "Step 228 — Next token:  and (ID: 578)\n",
      "Step 229 — Next token:  exploratory (ID: 114836)\n",
      "Step 230 — Next token:  spirit (ID: 6914)\n",
      "Step 231 — Next token: . (ID: 235265)\n",
      "Step 232 — Next token:  The (ID: 714)\n",
      "Step 233 — Next token:  tracks (ID: 18631)\n",
      "Step 234 — Next token:  left (ID: 2731)\n",
      "Step 235 — Next token:  behind (ID: 5470)\n",
      "Step 236 — Next token:  suggest (ID: 9337)\n",
      "Step 237 — Next token:  that (ID: 674)\n",
      "Step 238 — Next token:  the (ID: 573)\n",
      "Step 239 — Next token:  dog (ID: 5929)\n",
      "Step 240 — Next token:  is (ID: 603)\n",
      "Step 241 — Next token:  following (ID: 2412)\n",
      "Step 242 — Next token:  its (ID: 1277)\n",
      "Step 243 — Next token:  own (ID: 1997)\n",
      "Step 244 — Next token:  path (ID: 3703)\n",
      "Step 245 — Next token:  and (ID: 578)\n",
      "Step 246 — Next token:  discovering (ID: 59551)\n",
      "Step 247 — Next token:  new (ID: 888)\n",
      "Step 248 — Next token:  and (ID: 578)\n",
      "Step 249 — Next token:  exciting (ID: 17305)\n",
      "Step 250 — Next token:  things (ID: 2652)\n",
      "Step 251 — Next token: . (ID: 235265)\n",
      "Step 252 — Next token: \n",
      "\n",
      " (ID: 109)\n",
      "Step 253 — Next token: ** (ID: 688)\n",
      "Step 254 — Next token: Technical (ID: 27423)\n",
      "Step 255 — Next token:  Elements (ID: 34762)\n",
      "Step 256 — Next token: :** (ID: 66058)\n",
      "Step 257 — Next token: \n",
      "\n",
      " (ID: 109)\n",
      "Step 258 — Next token: * (ID: 235287)\n",
      "Step 259 — Next token:  ** (ID: 5231)\n",
      "Step 260 — Next token: Composition (ID: 47286)\n",
      "Step 261 — Next token: :** (ID: 66058)\n",
      "Step 262 — Next token:  The (ID: 714)\n",
      "Step 263 — Next token:  image (ID: 2416)\n",
      "Step 264 — Next token:  is (ID: 603)\n",
      "Step 265 — Next token:  composed (ID: 18588)\n",
      "Step 266 — Next token:  with (ID: 675)\n",
      "Step 267 — Next token:  a (ID: 476)\n",
      "Step 268 — Next token:  wide (ID: 5396)\n",
      "Step 269 — Next token:  angle (ID: 9561)\n",
      "Step 270 — Next token:  lens (ID: 18522)\n",
      "Step 271 — Next token: , (ID: 235269)\n",
      "Step 272 — Next token:  capturing (ID: 62918)\n",
      "Step 273 — Next token:  the (ID: 573)\n",
      "Step 274 — Next token:  vast (ID: 12380)\n",
      "Step 275 — Next token: ness (ID: 1746)\n",
      "Step 276 — Next token:  of (ID: 576)\n",
      "Step 277 — Next token:  the (ID: 573)\n",
      "Step 278 — Next token:  snow (ID: 8529)\n",
      "Step 279 — Next token: - (ID: 235290)\n",
      "Step 280 — Next token: covered (ID: 25044)\n",
      "Step 281 — Next token:  landscape (ID: 15487)\n",
      "Step 282 — Next token:  and (ID: 578)\n",
      "Step 283 — Next token:  the (ID: 573)\n",
      "Step 284 — Next token:  dog (ID: 5929)\n",
      "Step 285 — Next token: ' (ID: 235303)\n",
      "Step 286 — Next token: s (ID: 235256)\n",
      "Step 287 — Next token:  energetic (ID: 53254)\n",
      "Step 288 — Next token:  movement (ID: 8069)\n",
      "Step 289 — Next token: . (ID: 235265)\n",
      "Step 290 — Next token: \n",
      " (ID: 108)\n",
      "Step 291 — Next token: * (ID: 235287)\n",
      "Step 292 — Next token:  ** (ID: 5231)\n",
      "Step 293 — Next token: Lighting (ID: 82295)\n",
      "Step 294 — Next token: :** (ID: 66058)\n",
      "Step 295 — Next token:  The (ID: 714)\n",
      "Step 296 — Next token:  image (ID: 2416)\n",
      "Step 297 — Next token:  is (ID: 603)\n",
      "Step 298 — Next token:  captured (ID: 23535)\n",
      "Step 299 — Next token:  in (ID: 575)\n",
      "Step 300 — Next token:  a (ID: 476)\n",
      "Step 301 — Next token:  bright (ID: 8660)\n",
      "Step 302 — Next token:  and (ID: 578)\n",
      "Step 303 — Next token:  crisp (ID: 50102)\n",
      "Step 304 — Next token:  light (ID: 2611)\n",
      "Step 305 — Next token: , (ID: 235269)\n",
      "Step 306 — Next token:  highlighting (ID: 62144)\n",
      "Step 307 — Next token:  the (ID: 573)\n",
      "Step 308 — Next token:  clean (ID: 3903)\n",
      "Step 309 — Next token:  snow (ID: 8529)\n",
      "Step 310 — Next token:  and (ID: 578)\n",
      "Step 311 — Next token:  the (ID: 573)\n",
      "Step 312 — Next token:  dog (ID: 5929)\n",
      "Step 313 — Next token: ' (ID: 235303)\n",
      "Step 314 — Next token: s (ID: 235256)\n",
      "Step 315 — Next token:  bright (ID: 8660)\n",
      "Step 316 — Next token:  eyes (ID: 4628)\n",
      "Step 317 — Next token: . (ID: 235265)\n",
      "Step 318 — Next token: \n",
      " (ID: 108)\n",
      "Step 319 — Next token: * (ID: 235287)\n",
      "Step 320 — Next token:  ** (ID: 5231)\n",
      "Step 321 — Next token: Depth (ID: 25484)\n",
      "Step 322 — Next token:  of (ID: 576)\n",
      "Step 323 — Next token:  field (ID: 2725)\n",
      "Step 324 — Next token: :** (ID: 66058)\n",
      "Step 325 — Next token:  The (ID: 714)\n",
      "Step 326 — Next token:  image (ID: 2416)\n",
      "Step 327 — Next token:  has (ID: 919)\n",
      "Step 328 — Next token:  a (ID: 476)\n",
      "Step 329 — Next token:  shallow (ID: 27468)\n",
      "Step 330 — Next token:  depth (ID: 10624)\n",
      "Step 331 — Next token:  of (ID: 576)\n",
      "Step 332 — Next token:  field (ID: 2725)\n",
      "Step 333 — Next token: , (ID: 235269)\n",
      "Step 334 — Next token:  which (ID: 948)\n",
      "Step 335 — Next token:  creates (ID: 18460)\n",
      "Step 336 — Next token:  a (ID: 476)\n",
      "Step 337 — Next token:  sense (ID: 5229)\n",
      "Step 338 — Next token:  of (ID: 576)\n",
      "Step 339 — Next token:  focus (ID: 6045)\n",
      "Step 340 — Next token:  on (ID: 611)\n",
      "Step 341 — Next token:  the (ID: 573)\n",
      "Step 342 — Next token:  dog (ID: 5929)\n",
      "Step 343 — Next token:  and (ID: 578)\n",
      "Step 344 — Next token:  the (ID: 573)\n",
      "Step 345 — Next token:  tracks (ID: 18631)\n",
      "Step 346 — Next token:  in (ID: 575)\n",
      "Step 347 — Next token:  the (ID: 573)\n",
      "Step 348 — Next token:  snow (ID: 8529)\n",
      "Step 349 — Next token: . (ID: 235265)\n",
      "Step 350 — Next token: <eos> (ID: 1)\n",
      "<EOS> token reached. Stopping generation.\n"
     ]
    }
   ],
   "source": [
    "\n",
    "for step in range(max_new_tokens):\n",
    "    with torch.no_grad():\n",
    "        output = model(input_ids=generated)\n",
    "        next_token_logits = output.logits[:, -1, :]\n",
    "        next_token_id = torch.argmax(next_token_logits, dim=-1, keepdim=True) #dim=-1 ensures the output is a 2D tensor by keeping the last dimension\n",
    "\n",
    "    print(f\"Step {step+1} — Next token: {tokenizer.decode(next_token_id[0])} (ID: {next_token_id.item()})\")\n",
    "    generated = torch.cat([generated, next_token_id], dim=-1) # Concatenate (add) the new token to the generated sequence\n",
    "\n",
    "    if next_token_id.item() == tokenizer.eos_token_id:\n",
    "        print(\"<EOS> token reached. Stopping generation.\")\n",
    "        break\n",
    "\n",
    "    "
   ]
  },
  {
   "cell_type": "code",
   "execution_count": 11,
   "id": "1a4208d1",
   "metadata": {},
   "outputs": [
    {
     "name": "stdout",
     "output_type": "stream",
     "text": [
      "\n",
      "📝 Final Decoded Text:\n",
      " A dog running through the snow, its paws leaving tracks in the pristine white landscape.\n",
      "\n",
      "**Describe the image in more detail.**\n",
      "\n",
      "**Visual Elements:**\n",
      "\n",
      "* **Snow-covered landscape:** The image captures a winter scene with pristine white snow covering the ground. The snow is clean and pure, creating a stark and beautiful backdrop.\n",
      "* **Dog running through the snow:** The dog is depicted running through the snow, its paws leaving tracks in the pristine white landscape. The movement of the dog is energetic and purposeful, suggesting a sense of adventure and freedom.\n",
      "* **Paw prints:** The dog's paws leaving tracks in the snow create a visual connection between the animal and the environment. They are small and distinct, yet they are enough to convey the movement and energy of the dog.\n",
      "\n",
      "**Emotional Elements:**\n",
      "\n",
      "* **Joy and freedom:** The image conveys a sense of joy and freedom in the winter landscape. The dog's running through the snow is a joyous activity, and the pristine white snow provides a sense of purity and tranquility.\n",
      "* **Adventure and exploration:** The dog's exploration of the snow-covered landscape suggests an adventurous and exploratory spirit. The tracks left behind suggest that the dog is following its own path and discovering new and exciting things.\n",
      "\n",
      "**Technical Elements:**\n",
      "\n",
      "* **Composition:** The image is composed with a wide angle lens, capturing the vastness of the snow-covered landscape and the dog's energetic movement.\n",
      "* **Lighting:** The image is captured in a bright and crisp light, highlighting the clean snow and the dog's bright eyes.\n",
      "* **Depth of field:** The image has a shallow depth of field, which creates a sense of focus on the dog and the tracks in the snow.\n"
     ]
    }
   ],
   "source": [
    "\n",
    "\n",
    "decoded_text = tokenizer.decode(generated[0], skip_special_tokens=True)\n",
    "print(\"\\n📝 Final Decoded Text:\\n\", decoded_text)\n",
    "\n"
   ]
  }
 ],
 "metadata": {
  "kernelspec": {
   "display_name": "gemma-vlm-test",
   "language": "python",
   "name": "python3"
  },
  "language_info": {
   "codemirror_mode": {
    "name": "ipython",
    "version": 3
   },
   "file_extension": ".py",
   "mimetype": "text/x-python",
   "name": "python",
   "nbconvert_exporter": "python",
   "pygments_lexer": "ipython3",
   "version": "3.10.17"
  }
 },
 "nbformat": 4,
 "nbformat_minor": 5
}
